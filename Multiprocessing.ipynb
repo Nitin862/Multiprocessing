{
 "cells": [
  {
   "cell_type": "code",
   "execution_count": 1,
   "id": "01317f7a-4bdd-45e5-87b7-07a9f4f4b1c7",
   "metadata": {},
   "outputs": [
    {
     "data": {
      "text/plain": [
       "'Q1. What is multiprocessing in python? Why is it useful?'"
      ]
     },
     "execution_count": 1,
     "metadata": {},
     "output_type": "execute_result"
    }
   ],
   "source": [
    "'''Q1. What is multiprocessing in python? Why is it useful?'''"
   ]
  },
  {
   "cell_type": "code",
   "execution_count": 2,
   "id": "c5861cd8-b71b-43db-b2ef-f43d80be0442",
   "metadata": {},
   "outputs": [
    {
     "data": {
      "text/plain": [
       "'Definition: The technique of running multiple processes simultaneously, each with its own Python interpreter and memory space.\\nWhy It’s Useful: It bypasses the Global Interpreter Lock (GIL) in CPython, allowing true parallel execution of CPU-bound tasks, which can lead to better performance and efficiency\\nin utilizing multiple CPU cores.'"
      ]
     },
     "execution_count": 2,
     "metadata": {},
     "output_type": "execute_result"
    }
   ],
   "source": [
    "'''Definition: The technique of running multiple processes simultaneously, each with its own Python interpreter and memory space.\n",
    "Why It’s Useful: It bypasses the Global Interpreter Lock (GIL) in CPython, allowing true parallel execution of CPU-bound tasks, which can lead to better performance and efficiency\n",
    "in utilizing multiple CPU cores.'''"
   ]
  },
  {
   "cell_type": "code",
   "execution_count": 3,
   "id": "83287681-1ddc-444a-b728-1094269be5e5",
   "metadata": {},
   "outputs": [
    {
     "data": {
      "text/plain": [
       "'Q2. What are the differences between multiprocessing and multithreading?'"
      ]
     },
     "execution_count": 3,
     "metadata": {},
     "output_type": "execute_result"
    }
   ],
   "source": [
    "'''Q2. What are the differences between multiprocessing and multithreading?'''"
   ]
  },
  {
   "cell_type": "code",
   "execution_count": 4,
   "id": "2ead1ce0-df4c-4d59-8b26-dbbc6beccda7",
   "metadata": {},
   "outputs": [
    {
     "data": {
      "text/plain": [
       "'Multiprocessing vs. Multithreading:\\n\\nMemory Space:\\n\\nMultiprocessing: Each process has its own memory space.\\nMultithreading: Threads share the same memory space within a process.\\nGlobal Interpreter Lock (GIL):\\n\\nMultiprocessing: Bypasses the GIL, allowing true parallel execution.\\nMultithreading: Limited by the GIL in CPython, which can restrict parallel execution for CPU-bound tasks.\\nOverhead:\\n\\nMultiprocessing: Higher overhead due to separate memory space and process management.\\nMultithreading: Lower overhead as threads share memory space and resources.\\nUse Case:\\n\\nMultiprocessing: Better for CPU-bound tasks needing true parallelism.\\nMultithreading: More suitable for I/O-bound tasks where threads can run concurrently while waiting for I/O operations.\\n\\n\\n\\n\\n\\n\\n'"
      ]
     },
     "execution_count": 4,
     "metadata": {},
     "output_type": "execute_result"
    }
   ],
   "source": [
    "'''Multiprocessing vs. Multithreading:\n",
    "\n",
    "Memory Space:\n",
    "\n",
    "Multiprocessing: Each process has its own memory space.\n",
    "Multithreading: Threads share the same memory space within a process.\n",
    "Global Interpreter Lock (GIL):\n",
    "\n",
    "Multiprocessing: Bypasses the GIL, allowing true parallel execution.\n",
    "Multithreading: Limited by the GIL in CPython, which can restrict parallel execution for CPU-bound tasks.\n",
    "Overhead:\n",
    "\n",
    "Multiprocessing: Higher overhead due to separate memory space and process management.\n",
    "Multithreading: Lower overhead as threads share memory space and resources.\n",
    "Use Case:\n",
    "\n",
    "Multiprocessing: Better for CPU-bound tasks needing true parallelism.\n",
    "Multithreading: More suitable for I/O-bound tasks where threads can run concurrently while waiting for I/O operations.\n",
    "\n",
    "\n",
    "\n",
    "\n",
    "\n",
    "\n",
    "'''"
   ]
  },
  {
   "cell_type": "code",
   "execution_count": 5,
   "id": "3522fd06-4d72-49df-bbb2-13ccf97f70f7",
   "metadata": {},
   "outputs": [
    {
     "data": {
      "text/plain": [
       "'Q3. Write a python code to create a process using the multiprocessing module.'"
      ]
     },
     "execution_count": 5,
     "metadata": {},
     "output_type": "execute_result"
    }
   ],
   "source": [
    "'''Q3. Write a python code to create a process using the multiprocessing module.'''\n"
   ]
  },
  {
   "cell_type": "code",
   "execution_count": 6,
   "id": "2f17c959-a2e8-47c2-a452-f1eb4bde1049",
   "metadata": {},
   "outputs": [
    {
     "name": "stdout",
     "output_type": "stream",
     "text": [
      "Process running\n"
     ]
    }
   ],
   "source": [
    "import multiprocessing\n",
    "\n",
    "def worker():\n",
    "    print(\"Process running\")\n",
    "\n",
    "# Create a process\n",
    "process = multiprocessing.Process(target=worker)\n",
    "\n",
    "# Start the process\n",
    "process.start()\n",
    "\n",
    "# Wait for the process to complete\n",
    "process.join()\n"
   ]
  },
  {
   "cell_type": "code",
   "execution_count": 7,
   "id": "a7c82a32-eb5c-4a18-ae3f-3b2b94da8bf6",
   "metadata": {},
   "outputs": [
    {
     "data": {
      "text/plain": [
       "'Q4. What is a multiprocessing pool in python? Why is it used?'"
      ]
     },
     "execution_count": 7,
     "metadata": {},
     "output_type": "execute_result"
    }
   ],
   "source": [
    "'''Q4. What is a multiprocessing pool in python? Why is it used?'''"
   ]
  },
  {
   "cell_type": "code",
   "execution_count": 8,
   "id": "172a5bcd-c934-4c7b-ad56-838b6a480368",
   "metadata": {},
   "outputs": [
    {
     "data": {
      "text/plain": [
       "'Multiprocessing Pool in Python:\\n\\nDefinition: A multiprocessing.Pool is a class that provides a convenient way to parallelize the execution of a\\nfunction across multiple input values, distributing the tasks to a pool of worker processes.\\n\\nWhy It’s Used:\\n\\nTask Parallelism: Simplifies parallel execution of a function over a range of inputs, such as applying a function to a list of data.\\nResource Management: Manages a pool of worker processes, reusing them for multiple tasks, which reduces the overhead of creating\\nand destroying processes.\\nLoad Balancing: Automatically distributes tasks among available processes, improving efficiency and scalability.'"
      ]
     },
     "execution_count": 8,
     "metadata": {},
     "output_type": "execute_result"
    }
   ],
   "source": [
    "'''Multiprocessing Pool in Python:\n",
    "\n",
    "Definition: A multiprocessing.Pool is a class that provides a convenient way to parallelize the execution of a\n",
    "function across multiple input values, distributing the tasks to a pool of worker processes.\n",
    "\n",
    "Why It’s Used:\n",
    "\n",
    "Task Parallelism: Simplifies parallel execution of a function over a range of inputs, such as applying a function to a list of data.\n",
    "Resource Management: Manages a pool of worker processes, reusing them for multiple tasks, which reduces the overhead of creating\n",
    "and destroying processes.\n",
    "Load Balancing: Automatically distributes tasks among available processes, improving efficiency and scalability.'''"
   ]
  },
  {
   "cell_type": "code",
   "execution_count": 9,
   "id": "77ce7426-73cc-4c9e-92f8-14ef8e49e86b",
   "metadata": {},
   "outputs": [
    {
     "name": "stdout",
     "output_type": "stream",
     "text": [
      "[1, 4, 9, 16, 25]\n"
     ]
    }
   ],
   "source": [
    "from multiprocessing import Pool\n",
    "\n",
    "def square(x):\n",
    "    return x * x\n",
    "\n",
    "with Pool() as pool:\n",
    "    results = pool.map(square, [1, 2, 3, 4, 5])\n",
    "\n",
    "print(results)  # Output: [1, 4, 9, 16, 25]\n"
   ]
  },
  {
   "cell_type": "code",
   "execution_count": 10,
   "id": "114510e2-0fad-4c49-9629-06b745330c9b",
   "metadata": {},
   "outputs": [
    {
     "data": {
      "text/plain": [
       "'Q5. How can we create a pool of worker processes in python using the multiprocessing module?'"
      ]
     },
     "execution_count": 10,
     "metadata": {},
     "output_type": "execute_result"
    }
   ],
   "source": [
    "'''Q5. How can we create a pool of worker processes in python using the multiprocessing module?'''"
   ]
  },
  {
   "cell_type": "code",
   "execution_count": null,
   "id": "1db23824-c3f4-4b95-8387-2a8d4f310da7",
   "metadata": {},
   "outputs": [],
   "source": []
  }
 ],
 "metadata": {
  "kernelspec": {
   "display_name": "Python 3 (ipykernel)",
   "language": "python",
   "name": "python3"
  },
  "language_info": {
   "codemirror_mode": {
    "name": "ipython",
    "version": 3
   },
   "file_extension": ".py",
   "mimetype": "text/x-python",
   "name": "python",
   "nbconvert_exporter": "python",
   "pygments_lexer": "ipython3",
   "version": "3.10.8"
  }
 },
 "nbformat": 4,
 "nbformat_minor": 5
}
